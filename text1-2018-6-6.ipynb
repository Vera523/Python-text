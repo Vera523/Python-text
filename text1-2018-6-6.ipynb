{
 "cells": [
  {
   "cell_type": "code",
   "execution_count": 3,
   "metadata": {},
   "outputs": [],
   "source": [
    "class Kaifang:\n",
    "    def __init__(self):\n",
    "        self.women_num=0\n",
    "        self.man_num=0\n",
    "        self.total_line=0\n",
    "        self.lines=None\n",
    "        self.file_path='C:\\\\Users\\\\42173\\\\Desktop\\\\kaifangX.txt'\n",
    "    def get_kaifang_total(self):\n",
    "        with open(self.file_path,'r',encoding='gbk',errors='ignore')as f:\n",
    "            self.lines=f.readlines() #他返回的是一个列表\n",
    "            self.total_line=len(self.lines)\n",
    "            print(self.total_line)\n",
    "    def get_man_woman(self):\n",
    "        self.get_kaifang_total()\n",
    "        for line in self.lines:\n",
    "            try:\n",
    "                gender=line.split(',')[2]\n",
    "                if gender=='M':\n",
    "                    self.man_num+=1\n",
    "                if gender=='F':\n",
    "                    self.women_num+=1\n",
    "            except Exception as e:\n",
    "                print(e)\n",
    "                print('未获取到数据')\n",
    "        print(self.women_num,'***',self.man_num)\n",
    "    def percent(self):\n",
    "        self.get_kaifang_total()\n",
    "        self.get_man_woman()\n",
    "        print(self.man_num/self.total_line)\n",
    "        print(self.women_num/self.total_line)"
   ]
  },
  {
   "cell_type": "code",
   "execution_count": null,
   "metadata": {},
   "outputs": [
    {
     "name": "stdout",
     "output_type": "stream",
     "text": [
      "16898669\n"
     ]
    }
   ],
   "source": [
    "Kaifang().percent()"
   ]
  }
 ],
 "metadata": {
  "kernelspec": {
   "display_name": "Python 3",
   "language": "python",
   "name": "python3"
  },
  "language_info": {
   "codemirror_mode": {
    "name": "ipython",
    "version": 3
   },
   "file_extension": ".py",
   "mimetype": "text/x-python",
   "name": "python",
   "nbconvert_exporter": "python",
   "pygments_lexer": "ipython3",
   "version": "3.6.4"
  }
 },
 "nbformat": 4,
 "nbformat_minor": 2
}
