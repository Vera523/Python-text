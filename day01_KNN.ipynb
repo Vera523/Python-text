{
 "cells": [
  {
   "cell_type": "code",
   "execution_count": 23,
   "metadata": {},
   "outputs": [],
   "source": [
    "#import numpy as np"
   ]
  },
  {
   "cell_type": "code",
   "execution_count": 6,
   "metadata": {},
   "outputs": [],
   "source": [
    " X = [[3,104],\n",
    "        [2,100],\n",
    "        [1,81],\n",
    "        [101,10],\n",
    "        [99,5],\n",
    "        [98,2]]\n",
    "    \n",
    "Y = [0,0,0,1,1,1]"
   ]
  },
  {
   "cell_type": "code",
   "execution_count": 9,
   "metadata": {},
   "outputs": [],
   "source": [
    "X = np.array(X)"
   ]
  },
  {
   "cell_type": "code",
   "execution_count": 29,
   "metadata": {},
   "outputs": [
    {
     "data": {
      "text/plain": [
       "(6, 2)"
      ]
     },
     "execution_count": 29,
     "metadata": {},
     "output_type": "execute_result"
    }
   ],
   "source": [
    "X.shape"
   ]
  },
  {
   "cell_type": "code",
   "execution_count": 32,
   "metadata": {},
   "outputs": [
    {
     "data": {
      "text/plain": [
       "array([0, 0, 0, 1, 1, 1])"
      ]
     },
     "execution_count": 32,
     "metadata": {},
     "output_type": "execute_result"
    }
   ],
   "source": [
    "Y = np.array(Y)\n",
    "Y"
   ]
  },
  {
   "cell_type": "code",
   "execution_count": 11,
   "metadata": {},
   "outputs": [
    {
     "data": {
      "text/plain": [
       "(6,)"
      ]
     },
     "execution_count": 11,
     "metadata": {},
     "output_type": "execute_result"
    }
   ],
   "source": [
    "Y.shape"
   ]
  },
  {
   "cell_type": "code",
   "execution_count": 12,
   "metadata": {},
   "outputs": [
    {
     "data": {
      "text/plain": [
       "(1, 2)"
      ]
     },
     "execution_count": 12,
     "metadata": {},
     "output_type": "execute_result"
    }
   ],
   "source": [
    "vera = np.array([[18,90]])\n",
    "vera.shape #vera是测试样本"
   ]
  },
  {
   "cell_type": "code",
   "execution_count": 13,
   "metadata": {},
   "outputs": [
    {
     "data": {
      "text/plain": [
       "array([[-15,  14],\n",
       "       [-16,  10],\n",
       "       [-17,  -9],\n",
       "       [ 83, -80],\n",
       "       [ 81, -85],\n",
       "       [ 80, -88]])"
      ]
     },
     "execution_count": 13,
     "metadata": {},
     "output_type": "execute_result"
    }
   ],
   "source": [
    "diff = X - vera\n",
    "diff"
   ]
  },
  {
   "cell_type": "code",
   "execution_count": 14,
   "metadata": {},
   "outputs": [
    {
     "data": {
      "text/plain": [
       "array([[ 225,  196],\n",
       "       [ 256,  100],\n",
       "       [ 289,   81],\n",
       "       [6889, 6400],\n",
       "       [6561, 7225],\n",
       "       [6400, 7744]], dtype=int32)"
      ]
     },
     "execution_count": 14,
     "metadata": {},
     "output_type": "execute_result"
    }
   ],
   "source": [
    "s = diff ** 2\n",
    "s"
   ]
  },
  {
   "cell_type": "code",
   "execution_count": 15,
   "metadata": {},
   "outputs": [
    {
     "data": {
      "text/plain": [
       "array([  421,   356,   370, 13289, 13786, 14144], dtype=int32)"
      ]
     },
     "execution_count": 15,
     "metadata": {},
     "output_type": "execute_result"
    }
   ],
   "source": [
    "sum_ = np.sum(s,axis=1)\n",
    "sum_"
   ]
  },
  {
   "cell_type": "code",
   "execution_count": 19,
   "metadata": {},
   "outputs": [
    {
     "data": {
      "text/plain": [
       "array([ 20.51828453,  18.86796226,  19.23538406, 115.27792503,\n",
       "       117.41379817, 118.92854998])"
      ]
     },
     "execution_count": 19,
     "metadata": {},
     "output_type": "execute_result"
    }
   ],
   "source": [
    "d = sum_ ** 0.5\n",
    "d"
   ]
  },
  {
   "cell_type": "code",
   "execution_count": 21,
   "metadata": {},
   "outputs": [
    {
     "data": {
      "text/plain": [
       "array([1, 2, 0], dtype=int64)"
      ]
     },
     "execution_count": 21,
     "metadata": {},
     "output_type": "execute_result"
    }
   ],
   "source": [
    "K_ = np.argsort(d)[:3]\n",
    "K_"
   ]
  },
  {
   "cell_type": "code",
   "execution_count": 33,
   "metadata": {},
   "outputs": [
    {
     "data": {
      "text/plain": [
       "array([0, 0, 0])"
      ]
     },
     "execution_count": 33,
     "metadata": {},
     "output_type": "execute_result"
    }
   ],
   "source": [
    "Y[K_]"
   ]
  },
  {
   "cell_type": "code",
   "execution_count": 34,
   "metadata": {},
   "outputs": [
    {
     "data": {
      "text/plain": [
       "array([0, 0, 0])"
      ]
     },
     "execution_count": 34,
     "metadata": {},
     "output_type": "execute_result"
    }
   ],
   "source": [
    "predict_y_prev =Y[K_]\n",
    "predict_y_prev"
   ]
  },
  {
   "cell_type": "code",
   "execution_count": 35,
   "metadata": {},
   "outputs": [
    {
     "data": {
      "text/plain": [
       "0.0"
      ]
     },
     "execution_count": 35,
     "metadata": {},
     "output_type": "execute_result"
    }
   ],
   "source": [
    "np.sum(predict_y_prev) / 3"
   ]
  },
  {
   "cell_type": "code",
   "execution_count": 24,
   "metadata": {},
   "outputs": [],
   "source": [
    "import numpy as np"
   ]
  },
  {
   "cell_type": "code",
   "execution_count": 25,
   "metadata": {},
   "outputs": [],
   "source": [
    "path = \"data_set/datingTestSet.txt\""
   ]
  },
  {
   "cell_type": "code",
   "execution_count": 26,
   "metadata": {},
   "outputs": [],
   "source": [
    "X = []\n",
    "y = []\n",
    "with open(path,'r') as f:\n",
    "    readlines_ = f.readlines()\n",
    "    for line in readlines_:\n",
    "        line_split = line.strip('\\n').split('\\t')\n",
    "        X.append([np.float32(line_split[0]),np.float32(line_split[1]),np.float32(line_split[2])])\n",
    "        y.append(line_split[-1])"
   ]
  },
  {
   "cell_type": "code",
   "execution_count": 27,
   "metadata": {},
   "outputs": [],
   "source": [
    "X = np.array(X)\n",
    "y = np.array(y)"
   ]
  },
  {
   "cell_type": "code",
   "execution_count": 5,
   "metadata": {},
   "outputs": [
    {
     "data": {
      "text/plain": [
       "array([[0.44832537, 0.39805138, 0.5623336 ],\n",
       "       [0.1587326 , 0.34195465, 0.9872441 ],\n",
       "       [0.28542942, 0.06892523, 0.4744963 ],\n",
       "       ...,\n",
       "       [0.29115948, 0.5091029 , 0.51079494],\n",
       "       [0.527111  , 0.4366545 , 0.42900482],\n",
       "       [0.47940794, 0.37680906, 0.7857181 ]], dtype=float32)"
      ]
     },
     "execution_count": 5,
     "metadata": {},
     "output_type": "execute_result"
    }
   ],
   "source": [
    "X =(X - np.min(X,axis=0)) / (np.max(X,axis=0)-np.min(X,axis=0))\n",
    "X"
   ]
  },
  {
   "cell_type": "code",
   "execution_count": 6,
   "metadata": {},
   "outputs": [],
   "source": [
    "random_X_indec = np.random.permutation(1000)"
   ]
  },
  {
   "cell_type": "code",
   "execution_count": 7,
   "metadata": {},
   "outputs": [],
   "source": [
    "test_X = X[random_X_indec][:200]"
   ]
  },
  {
   "cell_type": "code",
   "execution_count": 8,
   "metadata": {},
   "outputs": [],
   "source": [
    "test_y = y[random_X_indec][:200]"
   ]
  },
  {
   "cell_type": "code",
   "execution_count": 9,
   "metadata": {},
   "outputs": [],
   "source": [
    "train_X = X[random_X_indec][200:]"
   ]
  },
  {
   "cell_type": "code",
   "execution_count": 10,
   "metadata": {},
   "outputs": [],
   "source": [
    "train_y = y[random_X_indec][200:]"
   ]
  },
  {
   "cell_type": "code",
   "execution_count": 11,
   "metadata": {},
   "outputs": [],
   "source": [
    "from sklearn.model_selection import train_test_split"
   ]
  },
  {
   "cell_type": "code",
   "execution_count": 12,
   "metadata": {},
   "outputs": [],
   "source": [
    "X_train, X_test, y_train, y_test = train_test_split(X,y,test_size = 0.2,random_state=42)"
   ]
  },
  {
   "cell_type": "code",
   "execution_count": 13,
   "metadata": {
    "scrolled": true
   },
   "outputs": [
    {
     "data": {
      "text/plain": [
       "(800, 3)"
      ]
     },
     "execution_count": 13,
     "metadata": {},
     "output_type": "execute_result"
    }
   ],
   "source": [
    "X_train.shape"
   ]
  },
  {
   "cell_type": "code",
   "execution_count": 14,
   "metadata": {
    "collapsed": true
   },
   "outputs": [
    {
     "data": {
      "text/plain": [
       "array([0.5009853 , 0.67279243, 0.28272453, 0.46856233, 0.58655715,\n",
       "       0.39310014, 0.69152045, 0.75956815, 0.4271073 , 0.5588441 ,\n",
       "       0.5699323 , 0.42629477, 0.6930947 , 0.23593444, 0.4603325 ,\n",
       "       0.6537342 , 0.5233861 , 0.52461344, 0.6141777 , 0.4380009 ,\n",
       "       0.5629949 , 0.8370085 , 0.4225926 , 0.5882023 , 0.6506874 ,\n",
       "       0.56228626, 0.7337634 , 0.5968487 , 0.6913893 , 0.4986038 ,\n",
       "       0.71039236, 0.7047584 , 0.44466203, 0.6166786 , 0.6576316 ,\n",
       "       0.51050556, 0.5188421 , 0.8039183 , 0.31432244, 0.49291965,\n",
       "       0.5309116 , 0.03799123, 0.62584287, 0.77650505, 0.5045126 ,\n",
       "       0.8754828 , 0.6159795 , 0.6895083 , 0.41721296, 0.4482113 ,\n",
       "       0.31855208, 0.7402264 , 0.5075168 , 0.7060249 , 0.6901071 ,\n",
       "       0.3314686 , 0.45498756, 0.3259202 , 0.20322882, 0.24819474,\n",
       "       0.26658872, 0.6565523 , 0.8015435 , 0.41833514, 0.424524  ,\n",
       "       0.738076  , 0.70853305, 0.6750381 , 0.4506804 , 0.90368474,\n",
       "       0.4737618 , 0.4223    , 0.55024344, 0.6616583 , 0.31035766,\n",
       "       0.2759151 , 0.8418351 , 0.75560105, 0.636375  , 0.6410011 ,\n",
       "       0.97316206, 0.18371983, 0.7854413 , 0.36537656, 0.62037116,\n",
       "       0.6427792 , 0.8383202 , 0.35704768, 0.31018963, 0.506733  ,\n",
       "       0.8140965 , 0.3383839 , 0.6135891 , 0.20602714, 0.33336893,\n",
       "       0.4046067 , 0.62549955, 0.6001565 , 0.41630608, 0.29885504,\n",
       "       0.6979023 , 0.5244017 , 0.38297254, 0.18953346, 0.67170084,\n",
       "       0.6231071 , 0.238571  , 0.49929547, 0.27502084, 0.42861435,\n",
       "       0.53726536, 0.89078903, 0.75192213, 0.28269258, 0.3847334 ,\n",
       "       0.5040563 , 0.70178497, 0.4644516 , 0.1979771 , 0.55826503,\n",
       "       0.29852182, 0.9258141 , 0.38654372, 0.50348496, 0.34298053,\n",
       "       0.66175866, 0.6661325 , 0.45990586, 0.47548577, 0.33844694,\n",
       "       0.4293547 , 0.46384326, 0.48904043, 0.12652145, 0.20924135,\n",
       "       0.32965624, 0.654722  , 0.3550031 , 0.6591638 , 0.7906094 ,\n",
       "       0.8908925 , 0.3932261 , 0.49031213, 0.50952154, 0.47232702,\n",
       "       0.23465523, 0.5592281 , 0.9018817 , 0.7082074 , 0.24302539,\n",
       "       0.62764317, 0.4939426 , 0.42889786, 0.23275982, 0.9570254 ,\n",
       "       0.7704255 , 0.6200226 , 0.33378902, 0.34863803, 0.49122638,\n",
       "       0.1758314 , 0.65853286, 0.35438958, 0.65591   , 0.5828936 ,\n",
       "       0.73279965, 0.39197153, 0.32018822, 0.229666  , 0.8485821 ,\n",
       "       0.62145615, 0.91273093, 0.544353  , 0.4065969 , 0.24619439,\n",
       "       0.43858108, 0.33160794, 0.72119933, 0.71612245, 0.50335795,\n",
       "       0.85197455, 0.4880901 , 0.66581583, 0.62043655, 0.44623944,\n",
       "       0.7983317 , 0.45596558, 0.6160479 , 0.6849495 , 0.68081975,\n",
       "       0.54655385, 0.8743172 , 0.58423084, 0.31972304, 0.3838726 ,\n",
       "       0.66528237, 0.65939415, 0.4582546 , 0.623764  , 0.33678204,\n",
       "       0.58620447, 0.2576171 , 0.8589464 , 0.8661042 , 0.7682314 ,\n",
       "       0.6680296 , 0.37776822, 0.8041226 , 0.36606064, 0.8523864 ,\n",
       "       0.39771706, 0.34242326, 0.30707982, 0.4338414 , 0.31249535,\n",
       "       0.50716966, 0.9227464 , 0.6163796 , 0.3457395 , 0.63483423,\n",
       "       0.6387824 , 0.76507246, 0.34848696, 0.30227825, 0.25104195,\n",
       "       0.5890934 , 0.40979728, 0.6112    , 0.67472273, 0.35201946,\n",
       "       0.44745958, 0.7346376 , 0.7338704 , 0.53026843, 0.62113297,\n",
       "       0.63426894, 0.3691257 , 0.42834294, 0.68849033, 0.6503681 ,\n",
       "       0.6193893 , 0.6671566 , 0.14578931, 0.28578123, 0.20005496,\n",
       "       0.5996299 , 0.45131576, 0.42877942, 0.5791018 , 0.53031176,\n",
       "       0.29630142, 0.20478722, 0.17365146, 0.26216397, 0.3553134 ,\n",
       "       0.5707625 , 0.6066274 , 0.43533573, 0.3658499 , 0.1801432 ,\n",
       "       0.23544848, 0.4002175 , 0.3642825 , 0.33096334, 0.38049492,\n",
       "       0.42991635, 0.635303  , 0.5855108 , 0.4242903 , 0.6465527 ,\n",
       "       0.7486164 , 0.57977945, 0.42438564, 0.6945204 , 0.6497339 ,\n",
       "       0.8734923 , 0.30267537, 0.5329937 , 0.4522629 , 0.5886269 ,\n",
       "       0.63469094, 0.2775328 , 0.3251588 , 0.787711  , 0.67823255,\n",
       "       0.6134568 , 0.64409226, 0.34654352, 0.27906862, 0.44026503,\n",
       "       0.5225964 , 0.5448923 , 0.18152823, 0.5891137 , 0.54185724,\n",
       "       0.13110058, 0.3359444 , 0.56537616, 0.42385924, 0.42456973,\n",
       "       0.20603496, 0.62224567, 0.2214503 , 0.7744577 , 0.33028838,\n",
       "       0.76632744, 0.3648034 , 0.5642717 , 0.6756308 , 0.6439413 ,\n",
       "       0.61486894, 0.2463935 , 0.7510732 , 0.7216301 , 0.40731433,\n",
       "       0.6235321 , 0.8464352 , 0.6638327 , 0.6195543 , 0.51835513,\n",
       "       0.742286  , 0.16566038, 0.6231176 , 0.63673085, 0.7221943 ,\n",
       "       0.34443277, 0.53298205, 0.8895941 , 0.61953753, 0.59291625,\n",
       "       0.1690058 , 0.14255154, 0.5500747 , 0.275849  , 0.59708655,\n",
       "       0.4676237 , 0.12152143, 0.71586764, 0.6695405 , 0.29536697,\n",
       "       0.20246077, 0.47285047, 0.58903146, 0.7167866 , 0.71605843,\n",
       "       0.3489813 , 0.6720161 , 0.7252364 , 0.69067556, 0.29394728,\n",
       "       0.27992588, 0.60685486, 0.72279584, 0.65228194, 0.5358746 ,\n",
       "       0.46549657, 0.7031777 , 0.39481097, 0.72400755, 0.83000773,\n",
       "       0.67901593, 0.17378448, 0.26514012, 0.4149744 , 0.61658067,\n",
       "       0.43567017, 0.41826722, 0.35584876, 0.5380636 , 0.40095946,\n",
       "       0.42376274, 0.9499784 , 0.8365762 , 0.52916086, 0.6291139 ,\n",
       "       0.34877852, 0.54158604, 0.47901127, 0.6142004 , 0.7480936 ,\n",
       "       0.42159724, 0.26640567, 0.7992663 , 0.691408  , 0.3814974 ,\n",
       "       0.9607656 , 0.73085296, 0.25442913, 0.5542209 , 0.44995067,\n",
       "       0.44720113, 0.40808636, 0.2880966 , 0.618346  , 0.6940332 ,\n",
       "       0.40733016, 0.65425104, 0.33974856, 0.2256671 , 0.6515392 ,\n",
       "       0.60807025, 0.20534126, 0.2940815 , 0.76720697, 0.6734883 ,\n",
       "       0.6999638 , 0.43723422, 0.5430101 , 0.686684  , 0.6381954 ,\n",
       "       0.36043772, 0.50389725, 0.48467702, 0.8545378 , 0.33058077,\n",
       "       0.519965  , 0.92907864, 0.74025124, 0.92867976, 0.42481464,\n",
       "       0.6358364 , 0.74041575, 0.20618574, 0.6931417 , 0.17968898,\n",
       "       0.5767911 , 0.4148438 , 0.23726799, 0.54981637, 0.42720315,\n",
       "       0.43217057, 0.43977585, 0.56906265, 0.22955106, 0.80332625,\n",
       "       0.44783476, 0.7625916 , 0.2996786 , 0.4195074 , 0.20080137,\n",
       "       0.52374357, 0.7380286 , 0.73100805, 0.7409708 , 0.18920748,\n",
       "       0.65406436, 0.14213674, 0.7855397 , 0.4076667 , 0.6555482 ,\n",
       "       0.42570433, 0.15141103, 0.74181205, 0.6860116 , 0.37698278,\n",
       "       0.43754065, 0.2953204 , 0.6580237 , 0.56271577, 0.23819646,\n",
       "       0.31429228, 0.66701186, 0.732278  , 0.60969186, 0.56295025,\n",
       "       0.62310493, 0.63513356, 0.27706704, 0.66355956, 0.4681076 ,\n",
       "       0.7236304 , 0.25303033, 0.45946193, 0.5781473 , 0.44335225,\n",
       "       0.79683864, 0.79725385, 0.49521372, 0.6984499 , 0.29549974,\n",
       "       0.50129884, 0.9467607 , 0.44268417, 0.32139698, 0.6817093 ,\n",
       "       0.4741467 , 0.4334471 , 0.5331924 , 0.54039943, 0.29086035,\n",
       "       0.72390896, 0.8187548 , 0.45524314, 0.18765242, 0.52524954,\n",
       "       0.69961697, 0.41290838, 0.2634168 , 0.22031823, 0.56860924,\n",
       "       0.5226017 , 0.475728  , 0.6965515 , 0.50304794, 0.33731326,\n",
       "       0.6881314 , 0.52599126, 0.11753391, 0.29848522, 0.712114  ,\n",
       "       0.7779326 , 0.4251825 , 0.54228336, 0.30685627, 0.2239258 ,\n",
       "       0.44658566, 0.7396994 , 0.6275133 , 0.22032188, 0.17857178,\n",
       "       0.6913524 , 0.96122605, 0.41408968, 0.7365528 , 0.4884288 ,\n",
       "       0.22293134, 0.9118221 , 0.59326565, 0.6383673 , 0.57595855,\n",
       "       0.6531958 , 0.39748096, 0.473292  , 0.838626  , 0.30548498,\n",
       "       0.8124529 , 0.73823965, 0.5278132 , 0.4724332 , 0.5443566 ,\n",
       "       0.39560658, 0.33032927, 0.7747379 , 0.4756374 , 0.63496155,\n",
       "       0.8932579 , 0.19598381, 0.3429163 , 0.36569628, 0.2125207 ,\n",
       "       0.63127905, 0.6891936 , 0.709076  , 0.6329662 , 0.48122606,\n",
       "       0.51676375, 0.385729  , 0.3250451 , 0.22786205, 0.74059504,\n",
       "       0.3750732 , 0.3580819 , 0.24604851, 0.3284593 , 0.7286401 ,\n",
       "       0.6589437 , 0.46761817, 0.9603867 , 0.3841484 , 0.626162  ,\n",
       "       0.678804  , 0.25710487, 0.6682312 , 0.21664035, 0.6670704 ,\n",
       "       0.7957796 , 0.6518763 , 0.38627565, 0.6639956 , 0.6414128 ,\n",
       "       0.23317082, 0.6414837 , 0.8355022 , 0.21523768, 0.7151283 ,\n",
       "       0.6277581 , 0.70819205, 0.3830522 , 0.3286793 , 0.08681107,\n",
       "       0.8256638 , 0.638812  , 0.66105354, 0.69905657, 0.3193952 ,\n",
       "       0.23920645, 0.49219662, 0.6814244 , 0.39646918, 0.36717132,\n",
       "       0.68895906, 0.69745463, 0.5643167 , 0.30597872, 0.23341484,\n",
       "       0.48968467, 0.46026567, 0.7068623 , 0.5841698 , 0.21752648,\n",
       "       0.76744777, 0.7740813 , 0.7203049 , 0.3435143 , 0.7363553 ,\n",
       "       0.78571635, 0.29424497, 0.6533565 , 0.3133318 , 0.51912785,\n",
       "       0.36188585, 0.6215958 , 0.41594166, 0.3069536 , 0.20237888,\n",
       "       0.2824119 , 0.35320765, 0.24363339, 0.31033593, 0.3357209 ,\n",
       "       0.54500043, 0.45041373, 0.52253217, 0.29732302, 0.7642931 ,\n",
       "       0.2990409 , 0.3451936 , 0.6233897 , 0.81528   , 0.5220509 ,\n",
       "       0.38957068, 0.15567115, 0.22069414, 0.517108  , 0.50999945,\n",
       "       0.40032616, 0.5635411 , 0.29154158, 0.37130928, 0.41057283,\n",
       "       0.42081818, 0.5061594 , 0.49090225, 0.41983956, 0.54859465,\n",
       "       0.37256002, 0.5388059 , 0.7083523 , 0.6618876 , 0.47298703,\n",
       "       0.69508   , 0.28642946, 0.3522882 , 0.29419738, 0.7457471 ,\n",
       "       0.5199    , 0.18906423, 0.71821207, 0.67365074, 0.47179097,\n",
       "       0.31171513, 0.71188885, 0.314586  , 0.30086246, 0.73204184,\n",
       "       0.7597827 , 0.5183633 , 0.55262184, 0.6222098 , 0.85936   ,\n",
       "       0.36014795, 0.7122366 , 0.73166627, 0.712013  , 0.6062556 ,\n",
       "       0.67260116, 0.68711185, 0.30327454, 0.91924316, 0.91999215,\n",
       "       0.4440547 , 0.6553819 , 0.25011155, 0.5064337 , 0.24727848,\n",
       "       0.46782282, 0.6927004 , 0.4223993 , 0.6730848 , 0.35793236,\n",
       "       0.36034068, 0.46162924, 0.62842536, 0.49694017, 0.67822284,\n",
       "       0.8241292 , 0.39325047, 0.40855086, 0.72124326, 0.1923223 ,\n",
       "       0.2495059 , 0.5854121 , 0.7122596 , 0.5002499 , 0.53551763,\n",
       "       0.5248424 , 0.26420912, 0.71308273, 0.44601098, 0.3414502 ,\n",
       "       0.4662808 , 0.5134431 , 0.60419214, 0.67167276, 0.62568   ,\n",
       "       0.34228536, 0.43383405, 0.4620831 , 0.40146232, 0.81751806,\n",
       "       0.55081683, 0.7688389 , 0.60888594, 0.29774967, 0.43108752,\n",
       "       0.63295037, 0.6209317 , 0.73557955, 0.34270802, 0.545812  ,\n",
       "       0.38027966, 0.6971172 , 0.63722646, 0.47459617, 0.3900029 ,\n",
       "       0.60511863, 0.77283067, 0.42577007, 0.48417354, 0.22467935,\n",
       "       0.5089359 , 0.44671205, 0.33122462, 0.5338878 , 0.6628111 ,\n",
       "       0.71824026, 0.5012821 , 0.32865041, 0.65594053, 0.539213  ,\n",
       "       0.19380987, 0.73808855, 0.73173386, 0.58303034, 0.4963416 ,\n",
       "       0.44091764, 0.6141306 , 0.5481487 , 0.14484201, 0.3775298 ,\n",
       "       0.7046404 , 0.4033724 , 0.37713426, 0.30365807, 0.8234568 ,\n",
       "       0.30539364, 0.4777474 , 0.1675769 , 0.5269024 , 0.71493995,\n",
       "       0.46615383, 0.2896219 , 0.18452653, 0.36710742, 0.25602984,\n",
       "       0.7440468 , 0.8211158 , 0.67865485, 0.30070278, 0.7605118 ,\n",
       "       0.2644551 , 0.2190451 , 0.6349746 , 0.8924539 , 0.33948302,\n",
       "       0.54786867, 0.67433006, 0.494342  , 0.22804008, 0.79899466],\n",
       "      dtype=float32)"
      ]
     },
     "execution_count": 14,
     "metadata": {},
     "output_type": "execute_result"
    }
   ],
   "source": [
    "D = np.sum((X_train - X_test[0])**2,axis=1)**0.5\n",
    "D"
   ]
  },
  {
   "cell_type": "code",
   "execution_count": 15,
   "metadata": {},
   "outputs": [
    {
     "data": {
      "text/plain": [
       "array([ 41, 589, 507, 336, 133], dtype=int64)"
      ]
     },
     "execution_count": 15,
     "metadata": {},
     "output_type": "execute_result"
    }
   ],
   "source": [
    "sort_D = np.argsort(D)[:5]\n",
    "sort_D"
   ]
  },
  {
   "cell_type": "code",
   "execution_count": 16,
   "metadata": {},
   "outputs": [
    {
     "data": {
      "text/plain": [
       "array(['smallDoses', 'smallDoses', 'largeDoses', 'didntLike', 'didntLike'],\n",
       "      dtype='<U10')"
      ]
     },
     "execution_count": 16,
     "metadata": {},
     "output_type": "execute_result"
    }
   ],
   "source": [
    "train_y[sort_D]"
   ]
  },
  {
   "cell_type": "code",
   "execution_count": 17,
   "metadata": {},
   "outputs": [
    {
     "data": {
      "text/plain": [
       "array(['smallDoses', 'smallDoses', 'largeDoses', 'didntLike', 'didntLike'],\n",
       "      dtype='<U10')"
      ]
     },
     "execution_count": 17,
     "metadata": {},
     "output_type": "execute_result"
    }
   ],
   "source": [
    "aaa = train_y[sort_D]\n",
    "aaa"
   ]
  },
  {
   "cell_type": "code",
   "execution_count": 20,
   "metadata": {},
   "outputs": [
    {
     "data": {
      "text/plain": [
       "{'didntLike': 2, 'largeDoses': 1, 'smallDoses': 2}"
      ]
     },
     "execution_count": 20,
     "metadata": {},
     "output_type": "execute_result"
    }
   ],
   "source": [
    "bbb={}\n",
    "for i in aaa:\n",
    "    if i not in bbb.keys():\n",
    "        bbb[i] = 1\n",
    "    else:\n",
    "        bbb[i] += 1\n",
    "bbb        "
   ]
  },
  {
   "cell_type": "code",
   "execution_count": 21,
   "metadata": {},
   "outputs": [
    {
     "name": "stdout",
     "output_type": "stream",
     "text": [
      "smallDoses\n"
     ]
    }
   ],
   "source": [
    "ccc=0\n",
    "predict_y =[]\n",
    "for key,value in bbb.items():\n",
    "    if value > ccc:\n",
    "        ccc = value\n",
    "        predict_y.append(key)\n",
    "print(predict_y[-1])"
   ]
  },
  {
   "cell_type": "code",
   "execution_count": 29,
   "metadata": {},
   "outputs": [],
   "source": [
    "def KNN(X,y,test_X,test_y,K):\n",
    "    \n",
    "    PREDICT_y = []\n",
    "    for i in range(test_X.shape[0]):\n",
    "        D = np.sum((X - test_X[i])**2,axis=1)**0.5\n",
    "        sort_D = np.argsort(D)[:K]\n",
    "        aaa = y[sort_D]\n",
    "        \n",
    "        bbb = {}\n",
    "        for i in aaa:\n",
    "            if i not in bbb.keys():\n",
    "                bbb[i] = 1\n",
    "            else:\n",
    "                bbb[i] += 1\n",
    "                \n",
    "        ccc = 0\n",
    "        predict_y = []\n",
    "        for key,value in bbb.items():\n",
    "            if value > ccc:\n",
    "                ccc = value\n",
    "                predict_y.append(key)\n",
    "                \n",
    "        PREDICT_y.append(predict_y[-1])\n",
    "        \n",
    "    PREDICT_Y = np.array(PREDICT_y)\n",
    "    \n",
    "    #####accuracy#####\n",
    "    accuracy = np.sum(PREDICT_Y == test_y) / test_X.shape[0]\n",
    "    print(accuracy)"
   ]
  },
  {
   "cell_type": "code",
   "execution_count": 34,
   "metadata": {},
   "outputs": [
    {
     "name": "stdout",
     "output_type": "stream",
     "text": [
      "0.96\n"
     ]
    }
   ],
   "source": [
    "KNN(train_X,train_y,test_X,test_y,10)"
   ]
  },
  {
   "cell_type": "code",
   "execution_count": null,
   "metadata": {},
   "outputs": [],
   "source": []
  },
  {
   "cell_type": "code",
   "execution_count": 29,
   "metadata": {},
   "outputs": [],
   "source": [
    "import numpy as np\n",
    "import os\n",
    "path_test = \"data_set/handwriting/testDigits\"\n",
    "path_train = \"data_set/handwriting/trainingDigits\""
   ]
  },
  {
   "cell_type": "code",
   "execution_count": 38,
   "metadata": {},
   "outputs": [
    {
     "name": "stdout",
     "output_type": "stream",
     "text": [
      "(946, 1024)\n",
      "(1934, 1024)\n"
     ]
    }
   ],
   "source": [
    "a = os.listdir(path_test)\n",
    "b = os.listdir(path_train)\n",
    "Y = []\n",
    "X = []\n",
    "B = []\n",
    "Z = []\n",
    "for i in a:\n",
    "    cache_x = []\n",
    "    Y.append(i.split('_')[0])\n",
    "    PATH_test = path_test + '/' + i\n",
    "    with open(PATH_test,'r')as f:\n",
    "        lines = f.readlines()\n",
    "        for j in lines:#遍历每一行\n",
    "            strip_j = j.strip('\\n')\n",
    "            for k_1 in strip_j:#遍历每一列\n",
    "                cache_x.append(k)\n",
    "        X.append(cache_x)\n",
    "for i in b:\n",
    "    cache_y = []\n",
    "    Z.append(i.split('_')[0])\n",
    "    PATH_train = path_train + '/' + i\n",
    "    with open(PATH_train,'r')as f:\n",
    "        lines = f.readlines()\n",
    "        for j in lines:\n",
    "            strip_j = j.strip('\\n')\n",
    "            for k in strip_j:\n",
    "                cache_y.append(k)\n",
    "        B.append(cache_y)\n",
    "X = np.array(X)\n",
    "B = np.array(B)\n",
    "print(X.shape)\n",
    "print(B.shape)"
   ]
  },
  {
   "cell_type": "code",
   "execution_count": 39,
   "metadata": {},
   "outputs": [],
   "source": [
    "from sklearn.model_selection import train_test_split"
   ]
  },
  {
   "cell_type": "code",
   "execution_count": 42,
   "metadata": {},
   "outputs": [],
   "source": [
    "X_train, X_test, Y_train, Y_test = train_test_split(X,Y,test_size = 0.2,random_state=42)\n",
    "Y_test = np.array(Y_test)\n",
    "Y_train = np.array(Y_train)\n",
    "X_train = np.array(X_train)\n",
    "X_test = np.array(X_test)\n",
    "B_train, B_test, Z_train, Z_test = train_test_split(B,Z,test_size = 0.8,random_state=42)\n",
    "Z_test = np.array(Z_test)\n",
    "Z_train = np.array(Z_train)\n",
    "B_train = np.array(B_train)\n",
    "B_test = np.array(B_test)"
   ]
  },
  {
   "cell_type": "code",
   "execution_count": 59,
   "metadata": {},
   "outputs": [],
   "source": [
    "def KNN(X,Y,test_X,test_Y,K):\n",
    "    \n",
    "    PREDICT_y = []\n",
    "    for i in range(test_X.shape[0]):\n",
    "       # D =  np.power(np.sum(np.power(X_train - X_test[i],2),axis=1),0.5)\n",
    "        D = np.sum((X - test_X[i])**2,axis=1)**0.5\n",
    "        sort_D = np.argsort(D)[:K]\n",
    "        aaa = Y[sort_D]\n",
    "        \n",
    "        bbb = {}\n",
    "        for i in aaa:\n",
    "            if i not in bbb.keys():\n",
    "                bbb[i] = 1\n",
    "            else:\n",
    "                bbb[i] += 1\n",
    "                \n",
    "        ccc = 0\n",
    "        predict_y = []\n",
    "        for key,value in bbb.items():\n",
    "            if value > ccc:\n",
    "                ccc = value\n",
    "                predict_y.append(key)\n",
    "                \n",
    "        PREDICT_y.append(predict_y[-1])\n",
    "        \n",
    "    PREDICT_Y = np.array(PREDICT_y)\n",
    "    \n",
    "    #####accuracy#####\n",
    "    accuracy = np.sum(PREDICT_Y == test_Y) / test_X.shape[0]\n",
    "    print(accuracy)"
   ]
  },
  {
   "cell_type": "code",
   "execution_count": 63,
   "metadata": {},
   "outputs": [
    {
     "ename": "NameError",
     "evalue": "name 'test_X' is not defined",
     "output_type": "error",
     "traceback": [
      "\u001b[1;31m---------------------------------------------------------------------------\u001b[0m",
      "\u001b[1;31mNameError\u001b[0m                                 Traceback (most recent call last)",
      "\u001b[1;32m<ipython-input-63-6472d17cb994>\u001b[0m in \u001b[0;36m<module>\u001b[1;34m()\u001b[0m\n\u001b[1;32m----> 1\u001b[1;33m \u001b[0mKNN\u001b[0m\u001b[1;33m(\u001b[0m\u001b[0mX_train\u001b[0m\u001b[1;33m,\u001b[0m\u001b[0mY_train\u001b[0m\u001b[1;33m,\u001b[0m\u001b[0mtest_X\u001b[0m\u001b[1;33m,\u001b[0m\u001b[0mtest_Y\u001b[0m\u001b[1;33m,\u001b[0m\u001b[1;36m10\u001b[0m\u001b[1;33m)\u001b[0m\u001b[1;33m\u001b[0m\u001b[0m\n\u001b[0m",
      "\u001b[1;31mNameError\u001b[0m: name 'test_X' is not defined"
     ]
    }
   ],
   "source": [
    "KNN(X_train,Y_train,test_X,test_Y,10)"
   ]
  },
  {
   "cell_type": "code",
   "execution_count": null,
   "metadata": {},
   "outputs": [],
   "source": []
  }
 ],
 "metadata": {
  "kernelspec": {
   "display_name": "Python 3",
   "language": "python",
   "name": "python3"
  },
  "language_info": {
   "codemirror_mode": {
    "name": "ipython",
    "version": 3
   },
   "file_extension": ".py",
   "mimetype": "text/x-python",
   "name": "python",
   "nbconvert_exporter": "python",
   "pygments_lexer": "ipython3",
   "version": "3.6.4"
  }
 },
 "nbformat": 4,
 "nbformat_minor": 2
}
